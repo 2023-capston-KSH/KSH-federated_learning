{
 "cells": [
  {
   "cell_type": "code",
   "execution_count": 1,
   "metadata": {},
   "outputs": [
    {
     "name": "stderr",
     "output_type": "stream",
     "text": [
      "/home/ttytu/anaconda3/envs/flwr/lib/python3.9/site-packages/tqdm/auto.py:21: TqdmWarning: IProgress not found. Please update jupyter and ipywidgets. See https://ipywidgets.readthedocs.io/en/stable/user_install.html\n",
      "  from .autonotebook import tqdm as notebook_tqdm\n",
      "2023-12-03 16:57:00,812\tINFO util.py:159 -- Missing packages: ['ipywidgets']. Run `pip install -U ipywidgets`, then restart the notebook server for rich notebook output.\n"
     ]
    }
   ],
   "source": [
    "import os\n",
    "os.environ[\"CUDA_VISIBLE_DEVICES\"] = \"2\"\n",
    "\n",
    "from transformers import AutoTokenizer, AutoModelForCausalLM, Trainer, TrainingArguments\n",
    "from datasets import load_dataset\n",
    "\n",
    "import flwr as fl\n",
    "import torch\n",
    "import math"
   ]
  },
  {
   "cell_type": "markdown",
   "metadata": {},
   "source": [
    "## Data Load & Preprocessing"
   ]
  },
  {
   "cell_type": "code",
   "execution_count": 2,
   "metadata": {
    "id": "n2ZRs1cL3l-R",
    "outputId": "11151c56-be90-4d11-e7df-db85e745ca5c"
   },
   "outputs": [],
   "source": [
    "model_checkpoint = \"distilgpt2\"\n",
    "datasets = load_dataset('wikitext', 'wikitext-103-raw-v1')\n",
    "\n",
    "datasets[\"train\"] = datasets[\"train\"].select(range(len(datasets[\"train\"]) // 2))"
   ]
  },
  {
   "cell_type": "code",
   "execution_count": 3,
   "metadata": {
    "id": "lS2m25YM3l-z"
   },
   "outputs": [],
   "source": [
    "tokenizer = AutoTokenizer.from_pretrained(model_checkpoint, use_fast=True)\n",
    "\n",
    "\n",
    "def tokenize_function(examples):\n",
    "    return tokenizer(examples[\"text\"])\n",
    "\n",
    "\n",
    "tokenized_datasets = datasets.map(tokenize_function, batched=True, num_proc=4, remove_columns=[\"text\"])"
   ]
  },
  {
   "cell_type": "code",
   "execution_count": 4,
   "metadata": {
    "id": "iaAJy5Hu3l_B"
   },
   "outputs": [],
   "source": [
    "# block_size = tokenizer.model_max_length\n",
    "block_size = 128\n",
    "\n",
    "\n",
    "def group_texts(examples):\n",
    "    # Concatenate all texts.\n",
    "    concatenated_examples = {k: sum(examples[k], []) for k in examples.keys()}\n",
    "    total_length = len(concatenated_examples[list(examples.keys())[0]])\n",
    "    # We drop the small remainder, we could add padding if the model supported it instead of this drop, you can\n",
    "    # customize this part to your needs.\n",
    "    total_length = (total_length // block_size) * block_size\n",
    "    # Split by chunks of max_len.\n",
    "    result = {\n",
    "        k: [t[i : i + block_size] for i in range(0, total_length, block_size)] for k, t in concatenated_examples.items()\n",
    "    }\n",
    "    result[\"labels\"] = result[\"input_ids\"].copy()\n",
    "    return result\n",
    "\n",
    "\n",
    "lm_datasets = tokenized_datasets.map(\n",
    "    group_texts,\n",
    "    batched=True,\n",
    "    batch_size=1000,\n",
    "    num_proc=4,\n",
    ")"
   ]
  },
  {
   "cell_type": "markdown",
   "metadata": {},
   "source": [
    "## Load Model"
   ]
  },
  {
   "cell_type": "code",
   "execution_count": 5,
   "metadata": {
    "id": "YbSwEhQ63l_L"
   },
   "outputs": [],
   "source": [
    "model = AutoModelForCausalLM.from_pretrained(model_checkpoint)\n",
    "\n",
    "model_name = model_checkpoint.split(\"/\")[-1]\n",
    "training_args = TrainingArguments(\n",
    "    f\"{model_name}-finetuned-wikitext103_p1\",\n",
    "    evaluation_strategy = \"epoch\",\n",
    "    save_strategy=\"epoch\",\n",
    "    learning_rate=2e-5,\n",
    "    weight_decay=0.01,\n",
    "    num_train_epochs=1,\n",
    "    push_to_hub=False,\n",
    ")"
   ]
  },
  {
   "cell_type": "markdown",
   "metadata": {},
   "source": [
    "## Flwr Client"
   ]
  },
  {
   "cell_type": "code",
   "execution_count": 6,
   "metadata": {},
   "outputs": [],
   "source": [
    "class LanguageModelClient(fl.client.NumPyClient):\n",
    "\tdef __init__(self, model, trainer, train_dataset, eval_dataset):\n",
    "\t\tself.model = model\n",
    "\t\tself.trainer = trainer\n",
    "\t\tself.train_dataset = train_dataset\n",
    "\t\tself.eval_dataset = eval_dataset\n",
    "\t\tself.rounds = 0\n",
    "\t\n",
    "\tdef get_parameters(self, config):\n",
    "\t\t# Convert PyTorch parameters to NumPy\n",
    "\t\treturn [val.cpu().numpy() for _, val in self.model.state_dict().items()]\n",
    "\n",
    "\tdef set_parameters(self, parameters):\n",
    "\t\t# Convert NumPy parameters to PyTorch and set for the model\n",
    "\t\tstate_dict = {k: torch.Tensor(v) for k, v in zip(self.model.state_dict().keys(), parameters)}\n",
    "\t\tself.model.load_state_dict(state_dict, strict=True)\n",
    "\n",
    "\tdef fit(self, parameters, config):\n",
    "\t\t# Set the provided parameters and then train the model\n",
    "\t\tself.set_parameters(parameters)\n",
    "\t\tself.trainer.train()\n",
    "\t\tself.trainer.save_model(f\"{model_name}-finetuned-wiki_p1-{self.rounds}\")\n",
    "\t\tself.rounds += 1\n",
    "\t\treturn self.get_parameters(config), len(self.train_dataset), {}\n",
    "\n",
    "\tdef evaluate(self, parameters, config):\n",
    "\t\t# Set the provided parameters and then evaluate the model\n",
    "\t\tself.set_parameters(parameters)\n",
    "\t\teval_result = self.trainer.evaluate(self.eval_dataset)\n",
    "\t\treturn float(eval_result['eval_loss']), len(self.eval_dataset), {\"perplexity\": math.exp(eval_result['eval_loss'])}"
   ]
  },
  {
   "cell_type": "code",
   "execution_count": 7,
   "metadata": {},
   "outputs": [],
   "source": [
    "client = LanguageModelClient(\n",
    "    model,\n",
    "    Trainer(\n",
    "        model=model, args=training_args, train_dataset=lm_datasets[\"train\"], eval_dataset=lm_datasets[\"validation\"]\n",
    "    ),\n",
    "    lm_datasets[\"train\"],\n",
    "    lm_datasets[\"validation\"],\n",
    ")"
   ]
  },
  {
   "cell_type": "code",
   "execution_count": 8,
   "metadata": {},
   "outputs": [
    {
     "name": "stderr",
     "output_type": "stream",
     "text": [
      "INFO flwr 2023-12-03 16:57:06,852 | grpc.py:52 | Opened insecure gRPC connection (no certificates were passed)\n"
     ]
    },
    {
     "name": "stderr",
     "output_type": "stream",
     "text": [
      "DEBUG flwr 2023-12-03 16:57:06,855 | connection.py:42 | ChannelConnectivity.IDLE\n",
      "DEBUG flwr 2023-12-03 16:57:06,857 | connection.py:42 | ChannelConnectivity.CONNECTING\n",
      "DEBUG flwr 2023-12-03 16:57:06,860 | connection.py:42 | ChannelConnectivity.READY\n"
     ]
    },
    {
     "data": {
      "text/html": [
       "\n",
       "    <div>\n",
       "      \n",
       "      <progress value='57546' max='57546' style='width:300px; height:20px; vertical-align: middle;'></progress>\n",
       "      [57546/57546 49:15, Epoch 1/1]\n",
       "    </div>\n",
       "    <table border=\"1\" class=\"dataframe\">\n",
       "  <thead>\n",
       " <tr style=\"text-align: left;\">\n",
       "      <th>Epoch</th>\n",
       "      <th>Training Loss</th>\n",
       "      <th>Validation Loss</th>\n",
       "    </tr>\n",
       "  </thead>\n",
       "  <tbody>\n",
       "    <tr>\n",
       "      <td>1</td>\n",
       "      <td>3.568700</td>\n",
       "      <td>3.448460</td>\n",
       "    </tr>\n",
       "  </tbody>\n",
       "</table><p>"
      ],
      "text/plain": [
       "<IPython.core.display.HTML object>"
      ]
     },
     "metadata": {},
     "output_type": "display_data"
    },
    {
     "data": {
      "text/html": [
       "\n",
       "    <div>\n",
       "      \n",
       "      <progress value='484' max='242' style='width:300px; height:20px; vertical-align: middle;'></progress>\n",
       "      [242/242 49:38]\n",
       "    </div>\n",
       "    "
      ],
      "text/plain": [
       "<IPython.core.display.HTML object>"
      ]
     },
     "metadata": {},
     "output_type": "display_data"
    },
    {
     "data": {
      "text/html": [
       "\n",
       "    <div>\n",
       "      \n",
       "      <progress value='57546' max='57546' style='width:300px; height:20px; vertical-align: middle;'></progress>\n",
       "      [57546/57546 49:25, Epoch 1/1]\n",
       "    </div>\n",
       "    <table border=\"1\" class=\"dataframe\">\n",
       "  <thead>\n",
       " <tr style=\"text-align: left;\">\n",
       "      <th>Epoch</th>\n",
       "      <th>Training Loss</th>\n",
       "      <th>Validation Loss</th>\n",
       "    </tr>\n",
       "  </thead>\n",
       "  <tbody>\n",
       "    <tr>\n",
       "      <td>1</td>\n",
       "      <td>3.499600</td>\n",
       "      <td>3.402641</td>\n",
       "    </tr>\n",
       "  </tbody>\n",
       "</table><p>"
      ],
      "text/plain": [
       "<IPython.core.display.HTML object>"
      ]
     },
     "metadata": {},
     "output_type": "display_data"
    },
    {
     "data": {
      "text/html": [
       "\n",
       "    <div>\n",
       "      \n",
       "      <progress value='484' max='242' style='width:300px; height:20px; vertical-align: middle;'></progress>\n",
       "      [242/242 49:32]\n",
       "    </div>\n",
       "    "
      ],
      "text/plain": [
       "<IPython.core.display.HTML object>"
      ]
     },
     "metadata": {},
     "output_type": "display_data"
    },
    {
     "data": {
      "text/html": [
       "\n",
       "    <div>\n",
       "      \n",
       "      <progress value='57546' max='57546' style='width:300px; height:20px; vertical-align: middle;'></progress>\n",
       "      [57546/57546 49:19, Epoch 1/1]\n",
       "    </div>\n",
       "    <table border=\"1\" class=\"dataframe\">\n",
       "  <thead>\n",
       " <tr style=\"text-align: left;\">\n",
       "      <th>Epoch</th>\n",
       "      <th>Training Loss</th>\n",
       "      <th>Validation Loss</th>\n",
       "    </tr>\n",
       "  </thead>\n",
       "  <tbody>\n",
       "    <tr>\n",
       "      <td>1</td>\n",
       "      <td>3.443800</td>\n",
       "      <td>3.366887</td>\n",
       "    </tr>\n",
       "  </tbody>\n",
       "</table><p>"
      ],
      "text/plain": [
       "<IPython.core.display.HTML object>"
      ]
     },
     "metadata": {},
     "output_type": "display_data"
    },
    {
     "data": {
      "text/html": [
       "\n",
       "    <div>\n",
       "      \n",
       "      <progress value='242' max='242' style='width:300px; height:20px; vertical-align: middle;'></progress>\n",
       "      [242/242 00:03]\n",
       "    </div>\n",
       "    "
      ],
      "text/plain": [
       "<IPython.core.display.HTML object>"
      ]
     },
     "metadata": {},
     "output_type": "display_data"
    },
    {
     "name": "stderr",
     "output_type": "stream",
     "text": [
      "DEBUG flwr 2023-12-03 19:27:04,779 | connection.py:141 | gRPC channel closed\n",
      "INFO flwr 2023-12-03 19:27:04,780 | app.py:304 | Disconnect and shut down\n",
      "INFO flwr 2023-12-03 19:27:04,780 | app.py:304 | Disconnect and shut down\n"
     ]
    }
   ],
   "source": [
    "fl.client.start_numpy_client(\n",
    "    server_address=\"localhost:8080\", \n",
    "    client=LanguageModelClient(\n",
    "        model,\n",
    "        Trainer(\n",
    "            model=model, args=training_args, train_dataset=lm_datasets[\"train\"], eval_dataset=lm_datasets[\"validation\"]\n",
    "        ),\n",
    "        lm_datasets[\"train\"],\n",
    "        lm_datasets[\"validation\"],\n",
    "    ),\n",
    "    grpc_max_message_length=1024 * 1024 * 1024,\n",
    ")"
   ]
  },
  {
   "cell_type": "markdown",
   "metadata": {},
   "source": [
    "--- "
   ]
  }
 ],
 "metadata": {
  "colab": {
   "name": "Fine-tune a language model",
   "provenance": []
  },
  "kernelspec": {
   "display_name": "Python 3 (ipykernel)",
   "language": "python",
   "name": "python3"
  },
  "language_info": {
   "codemirror_mode": {
    "name": "ipython",
    "version": 3
   },
   "file_extension": ".py",
   "mimetype": "text/x-python",
   "name": "python",
   "nbconvert_exporter": "python",
   "pygments_lexer": "ipython3",
   "version": "3.9.18"
  }
 },
 "nbformat": 4,
 "nbformat_minor": 1
}
