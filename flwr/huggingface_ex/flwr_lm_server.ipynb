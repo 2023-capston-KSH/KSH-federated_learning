{
 "cells": [
  {
   "cell_type": "code",
   "execution_count": 1,
   "metadata": {},
   "outputs": [],
   "source": [
    "import os \n",
    "\n",
    "os.environ['CUDA_VISIBLE_DEVICES'] = '3'"
   ]
  },
  {
   "cell_type": "code",
   "execution_count": 2,
   "metadata": {},
   "outputs": [
    {
     "name": "stderr",
     "output_type": "stream",
     "text": [
      "/home/ttytu/anaconda3/envs/flwr/lib/python3.9/site-packages/tqdm/auto.py:21: TqdmWarning: IProgress not found. Please update jupyter and ipywidgets. See https://ipywidgets.readthedocs.io/en/stable/user_install.html\n",
      "  from .autonotebook import tqdm as notebook_tqdm\n",
      "2023-12-02 00:28:58,494\tINFO util.py:159 -- Missing packages: ['ipywidgets']. Run `pip install -U ipywidgets`, then restart the notebook server for rich notebook output.\n"
     ]
    }
   ],
   "source": [
    "from transformers import AutoTokenizer, AutoModelForCausalLM, Trainer, TrainingArguments\n",
    "from datasets import load_dataset\n",
    "\n",
    "import flwr as fl\n",
    "import torch\n",
    "import math"
   ]
  },
  {
   "cell_type": "code",
   "execution_count": 3,
   "metadata": {},
   "outputs": [
    {
     "name": "stderr",
     "output_type": "stream",
     "text": [
      "INFO flwr 2023-12-02 00:28:58,506 | app.py:163 | Starting Flower server, config: ServerConfig(num_rounds=3, round_timeout=None)\n",
      "INFO flwr 2023-12-02 00:28:58,528 | app.py:176 | Flower ECE: gRPC server running (3 rounds), SSL is disabled\n",
      "INFO flwr 2023-12-02 00:28:58,529 | server.py:89 | Initializing global parameters\n",
      "INFO flwr 2023-12-02 00:28:58,530 | server.py:276 | Requesting initial parameters from one random client\n",
      "INFO flwr 2023-12-02 00:29:14,029 | server.py:280 | Received initial parameters from one random client\n",
      "INFO flwr 2023-12-02 00:29:14,030 | server.py:91 | Evaluating initial parameters\n",
      "INFO flwr 2023-12-02 00:29:14,030 | server.py:104 | FL starting\n",
      "DEBUG flwr 2023-12-02 00:29:24,739 | server.py:222 | fit_round 1: strategy sampled 2 clients (out of 2)\n",
      "DEBUG flwr 2023-12-02 01:18:34,098 | server.py:236 | fit_round 1 received 2 results and 0 failures\n",
      "WARNING flwr 2023-12-02 01:18:34,976 | fedavg.py:242 | No fit_metrics_aggregation_fn provided\n",
      "DEBUG flwr 2023-12-02 01:18:34,995 | server.py:173 | evaluate_round 1: strategy sampled 3 clients (out of 3)\n",
      "DEBUG flwr 2023-12-02 01:18:37,772 | server.py:187 | evaluate_round 1 received 0 results and 3 failures\n"
     ]
    }
   ],
   "source": [
    "fl.server.start_server(\n",
    "    server_address=\"0.0.0.0:8060\", \n",
    "    config=fl.server.ServerConfig(num_rounds=3),\n",
    "    strategy=fl.server.strategy.FedAvg(),\n",
    ")"
   ]
  },
  {
   "cell_type": "markdown",
   "metadata": {},
   "source": [
    "--- "
   ]
  }
 ],
 "metadata": {
  "colab": {
   "name": "Fine-tune a language model",
   "provenance": []
  },
  "kernelspec": {
   "display_name": "Python 3 (ipykernel)",
   "language": "python",
   "name": "python3"
  },
  "language_info": {
   "codemirror_mode": {
    "name": "ipython",
    "version": 3
   },
   "file_extension": ".py",
   "mimetype": "text/x-python",
   "name": "python",
   "nbconvert_exporter": "python",
   "pygments_lexer": "ipython3",
   "version": "3.9.18"
  }
 },
 "nbformat": 4,
 "nbformat_minor": 1
}
