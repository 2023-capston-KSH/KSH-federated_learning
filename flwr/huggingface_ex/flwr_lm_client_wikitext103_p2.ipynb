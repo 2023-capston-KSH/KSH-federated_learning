{
 "cells": [
  {
   "cell_type": "code",
   "execution_count": 1,
   "metadata": {},
   "outputs": [
    {
     "name": "stderr",
     "output_type": "stream",
     "text": [
      "/home/ttytu/anaconda3/envs/flwr/lib/python3.9/site-packages/tqdm/auto.py:21: TqdmWarning: IProgress not found. Please update jupyter and ipywidgets. See https://ipywidgets.readthedocs.io/en/stable/user_install.html\n",
      "  from .autonotebook import tqdm as notebook_tqdm\n",
      "2023-11-30 17:01:05,292\tINFO util.py:159 -- Missing packages: ['ipywidgets']. Run `pip install -U ipywidgets`, then restart the notebook server for rich notebook output.\n"
     ]
    }
   ],
   "source": [
    "import os\n",
    "os.environ[\"CUDA_VISIBLE_DEVICES\"] = \"3\"\n",
    "\n",
    "from transformers import AutoTokenizer, AutoModelForCausalLM, Trainer, TrainingArguments\n",
    "from datasets import load_dataset\n",
    "\n",
    "import flwr as fl\n",
    "import torch\n",
    "import math"
   ]
  },
  {
   "cell_type": "markdown",
   "metadata": {},
   "source": [
    "## Data Load & Preprocessing"
   ]
  },
  {
   "cell_type": "code",
   "execution_count": 3,
   "metadata": {
    "id": "n2ZRs1cL3l-R",
    "outputId": "11151c56-be90-4d11-e7df-db85e745ca5c"
   },
   "outputs": [
    {
     "data": {
      "text/plain": [
       "{'text': ' ( * ) Denotes co @-@ producer . \\n'}"
      ]
     },
     "execution_count": 3,
     "metadata": {},
     "output_type": "execute_result"
    }
   ],
   "source": [
    "model_checkpoint = \"distilgpt2\"\n",
    "datasets = load_dataset('wikitext', 'wikitext-103-raw-v1')\n",
    "\n",
    "datasets[\"train\"] = datasets[\"train\"].select(range(len(datasets[\"train\"]) // 2, len(datasets[\"train\"])))"
   ]
  },
  {
   "cell_type": "code",
   "execution_count": 3,
   "metadata": {
    "id": "lS2m25YM3l-z"
   },
   "outputs": [],
   "source": [
    "tokenizer = AutoTokenizer.from_pretrained(model_checkpoint, use_fast=True)\n",
    "\n",
    "\n",
    "def tokenize_function(examples):\n",
    "    return tokenizer(examples[\"text\"])\n",
    "\n",
    "\n",
    "tokenized_datasets = datasets.map(tokenize_function, batched=True, num_proc=4, remove_columns=[\"text\"])"
   ]
  },
  {
   "cell_type": "code",
   "execution_count": 4,
   "metadata": {
    "id": "iaAJy5Hu3l_B"
   },
   "outputs": [
    {
     "name": "stderr",
     "output_type": "stream",
     "text": [
      "Map (num_proc=4): 100%|██████████| 4358/4358 [00:00<00:00, 15459.03 examples/s]\n",
      "Map (num_proc=4): 100%|██████████| 1801350/1801350 [01:01<00:00, 29356.48 examples/s]\n",
      "Map (num_proc=4): 100%|██████████| 3760/3760 [00:00<00:00, 16162.54 examples/s]\n"
     ]
    }
   ],
   "source": [
    "# block_size = tokenizer.model_max_length\n",
    "block_size = 128\n",
    "\n",
    "\n",
    "def group_texts(examples):\n",
    "    # Concatenate all texts.\n",
    "    concatenated_examples = {k: sum(examples[k], []) for k in examples.keys()}\n",
    "    total_length = len(concatenated_examples[list(examples.keys())[0]])\n",
    "    # We drop the small remainder, we could add padding if the model supported it instead of this drop, you can\n",
    "    # customize this part to your needs.\n",
    "    total_length = (total_length // block_size) * block_size\n",
    "    # Split by chunks of max_len.\n",
    "    result = {\n",
    "        k: [t[i : i + block_size] for i in range(0, total_length, block_size)] for k, t in concatenated_examples.items()\n",
    "    }\n",
    "    result[\"labels\"] = result[\"input_ids\"].copy()\n",
    "    return result\n",
    "\n",
    "\n",
    "lm_datasets = tokenized_datasets.map(\n",
    "    group_texts,\n",
    "    batched=True,\n",
    "    batch_size=1000,\n",
    "    num_proc=4,\n",
    ")"
   ]
  },
  {
   "cell_type": "markdown",
   "metadata": {},
   "source": [
    "## Load Model"
   ]
  },
  {
   "cell_type": "code",
   "execution_count": 5,
   "metadata": {
    "id": "YbSwEhQ63l_L"
   },
   "outputs": [],
   "source": [
    "model = AutoModelForCausalLM.from_pretrained(model_checkpoint)\n",
    "\n",
    "model_name = model_checkpoint.split(\"/\")[-1]\n",
    "training_args = TrainingArguments(\n",
    "    f\"{model_name}-finetuned-wikitext103\",\n",
    "    evaluation_strategy = \"epoch\",\n",
    "    save_strategy=\"epoch\",\n",
    "    learning_rate=2e-5,\n",
    "    weight_decay=0.01,\n",
    "    num_train_epochs=1,\n",
    "    push_to_hub=False,\n",
    ")"
   ]
  },
  {
   "cell_type": "markdown",
   "metadata": {},
   "source": [
    "## Flwr Client"
   ]
  },
  {
   "cell_type": "code",
   "execution_count": 6,
   "metadata": {},
   "outputs": [],
   "source": [
    "class LanguageModelClient(fl.client.NumPyClient):\n",
    "\tdef __init__(self, model, trainer, train_dataset, eval_dataset):\n",
    "\t\tself.model = model\n",
    "\t\tself.trainer = trainer\n",
    "\t\tself.train_dataset = train_dataset\n",
    "\t\tself.eval_dataset = eval_dataset\n",
    "\t\n",
    "\tdef get_parameters(self, config):\n",
    "\t\t# Convert PyTorch parameters to NumPy\n",
    "\t\treturn [val.cpu().numpy() for _, val in self.model.state_dict().items()]\n",
    "\n",
    "\tdef set_parameters(self, parameters):\n",
    "\t\t# Convert NumPy parameters to PyTorch and set for the model\n",
    "\t\tstate_dict = {k: torch.Tensor(v) for k, v in zip(self.model.state_dict().keys(), parameters)}\n",
    "\t\tself.model.load_state_dict(state_dict, strict=True)\n",
    "\n",
    "\tdef fit(self, parameters, config):\n",
    "\t\t# Set the provided parameters and then train the model\n",
    "\t\tself.set_parameters(parameters)\n",
    "\t\tself.trainer.train()\n",
    "\t\treturn self.get_parameters(), len(self.train_dataset), {}\n",
    "\n",
    "\tdef evaluate(self, parameters, config):\n",
    "\t\t# Set the provided parameters and then evaluate the model\n",
    "\t\tself.set_parameters(parameters)\n",
    "\t\teval_result = self.trainer.evaluate(self.eval_dataset)\n",
    "\t\treturn float(eval_result['eval_loss']), len(self.eval_dataset)"
   ]
  },
  {
   "cell_type": "code",
   "execution_count": 7,
   "metadata": {},
   "outputs": [],
   "source": [
    "client = LanguageModelClient(\n",
    "    model,\n",
    "    Trainer(\n",
    "        model=model, args=training_args, train_dataset=lm_datasets[\"train\"], eval_dataset=lm_datasets[\"validation\"]\n",
    "    ),\n",
    "    lm_datasets[\"train\"],\n",
    "    lm_datasets[\"validation\"],\n",
    ")"
   ]
  },
  {
   "cell_type": "code",
   "execution_count": 9,
   "metadata": {},
   "outputs": [
    {
     "name": "stderr",
     "output_type": "stream",
     "text": [
      "INFO flwr 2023-11-30 11:47:17,236 | grpc.py:52 | Opened insecure gRPC connection (no certificates were passed)\n",
      "DEBUG flwr 2023-11-30 11:47:17,239 | connection.py:42 | ChannelConnectivity.IDLE\n",
      "DEBUG flwr 2023-11-30 11:47:17,241 | connection.py:42 | ChannelConnectivity.CONNECTING\n",
      "DEBUG flwr 2023-11-30 11:47:17,244 | connection.py:42 | ChannelConnectivity.READY\n"
     ]
    },
    {
     "data": {
      "text/html": [
       "\n",
       "    <div>\n",
       "      \n",
       "      <progress value='793' max='115045' style='width:300px; height:20px; vertical-align: middle;'></progress>\n",
       "      [   793/115045 01:18 < 3:09:50, 10.03 it/s, Epoch 0.01/1]\n",
       "    </div>\n",
       "    <table border=\"1\" class=\"dataframe\">\n",
       "  <thead>\n",
       " <tr style=\"text-align: left;\">\n",
       "      <th>Epoch</th>\n",
       "      <th>Training Loss</th>\n",
       "      <th>Validation Loss</th>\n",
       "    </tr>\n",
       "  </thead>\n",
       "  <tbody>\n",
       "  </tbody>\n",
       "</table><p>"
      ],
      "text/plain": [
       "<IPython.core.display.HTML object>"
      ]
     },
     "metadata": {},
     "output_type": "display_data"
    },
    {
     "name": "stderr",
     "output_type": "stream",
     "text": [
      "DEBUG flwr 2023-11-30 11:50:12,438 | connection.py:141 | gRPC channel closed\n"
     ]
    },
    {
     "ename": "KeyboardInterrupt",
     "evalue": "",
     "output_type": "error",
     "traceback": [
      "\u001b[0;31m---------------------------------------------------------------------------\u001b[0m",
      "\u001b[0;31mKeyboardInterrupt\u001b[0m                         Traceback (most recent call last)",
      "Cell \u001b[0;32mIn[9], line 1\u001b[0m\n\u001b[0;32m----> 1\u001b[0m \u001b[43mfl\u001b[49m\u001b[38;5;241;43m.\u001b[39;49m\u001b[43mclient\u001b[49m\u001b[38;5;241;43m.\u001b[39;49m\u001b[43mstart_numpy_client\u001b[49m\u001b[43m(\u001b[49m\n\u001b[1;32m      2\u001b[0m \u001b[43m\t\u001b[49m\u001b[43mserver_address\u001b[49m\u001b[38;5;241;43m=\u001b[39;49m\u001b[38;5;124;43m\"\u001b[39;49m\u001b[38;5;124;43mlocalhost:8080\u001b[39;49m\u001b[38;5;124;43m\"\u001b[39;49m\u001b[43m,\u001b[49m\n\u001b[1;32m      3\u001b[0m \u001b[43m\t\u001b[49m\u001b[43mclient\u001b[49m\u001b[38;5;241;43m=\u001b[39;49m\u001b[43mclient\u001b[49m\u001b[43m,\u001b[49m\n\u001b[1;32m      4\u001b[0m \u001b[43m)\u001b[49m\n",
      "File \u001b[0;32m~/anaconda3/envs/flwr/lib/python3.9/site-packages/flwr/client/app.py:401\u001b[0m, in \u001b[0;36mstart_numpy_client\u001b[0;34m(server_address, client, grpc_max_message_length, root_certificates, insecure, transport)\u001b[0m\n\u001b[1;32m    383\u001b[0m \u001b[38;5;66;03m# warnings.warn(\u001b[39;00m\n\u001b[1;32m    384\u001b[0m \u001b[38;5;66;03m#     \"flwr.client.start_numpy_client() is deprecated and will \"\u001b[39;00m\n\u001b[1;32m    385\u001b[0m \u001b[38;5;66;03m#     \"be removed in a future version of Flower. Instead, pass \"\u001b[39;00m\n\u001b[0;32m   (...)\u001b[0m\n\u001b[1;32m    396\u001b[0m \u001b[38;5;66;03m# Calling this function is deprecated. A warning is thrown.\u001b[39;00m\n\u001b[1;32m    397\u001b[0m \u001b[38;5;66;03m# We first need to convert either the supplied client to `Client.`\u001b[39;00m\n\u001b[1;32m    399\u001b[0m wrp_client \u001b[38;5;241m=\u001b[39m client\u001b[38;5;241m.\u001b[39mto_client()\n\u001b[0;32m--> 401\u001b[0m \u001b[43mstart_client\u001b[49m\u001b[43m(\u001b[49m\n\u001b[1;32m    402\u001b[0m \u001b[43m    \u001b[49m\u001b[43mserver_address\u001b[49m\u001b[38;5;241;43m=\u001b[39;49m\u001b[43mserver_address\u001b[49m\u001b[43m,\u001b[49m\n\u001b[1;32m    403\u001b[0m \u001b[43m    \u001b[49m\u001b[43mclient\u001b[49m\u001b[38;5;241;43m=\u001b[39;49m\u001b[43mwrp_client\u001b[49m\u001b[43m,\u001b[49m\n\u001b[1;32m    404\u001b[0m \u001b[43m    \u001b[49m\u001b[43mgrpc_max_message_length\u001b[49m\u001b[38;5;241;43m=\u001b[39;49m\u001b[43mgrpc_max_message_length\u001b[49m\u001b[43m,\u001b[49m\n\u001b[1;32m    405\u001b[0m \u001b[43m    \u001b[49m\u001b[43mroot_certificates\u001b[49m\u001b[38;5;241;43m=\u001b[39;49m\u001b[43mroot_certificates\u001b[49m\u001b[43m,\u001b[49m\n\u001b[1;32m    406\u001b[0m \u001b[43m    \u001b[49m\u001b[43minsecure\u001b[49m\u001b[38;5;241;43m=\u001b[39;49m\u001b[43minsecure\u001b[49m\u001b[43m,\u001b[49m\n\u001b[1;32m    407\u001b[0m \u001b[43m    \u001b[49m\u001b[43mtransport\u001b[49m\u001b[38;5;241;43m=\u001b[39;49m\u001b[43mtransport\u001b[49m\u001b[43m,\u001b[49m\n\u001b[1;32m    408\u001b[0m \u001b[43m\u001b[49m\u001b[43m)\u001b[49m\n",
      "File \u001b[0;32m~/anaconda3/envs/flwr/lib/python3.9/site-packages/flwr/client/app.py:294\u001b[0m, in \u001b[0;36mstart_client\u001b[0;34m(server_address, load_callable_fn, client_fn, client, grpc_max_message_length, root_certificates, insecure, transport)\u001b[0m\n\u001b[1;32m    289\u001b[0m \u001b[38;5;66;03m# Handle task message\u001b[39;00m\n\u001b[1;32m    290\u001b[0m fwd_msg: Fwd \u001b[38;5;241m=\u001b[39m Fwd(\n\u001b[1;32m    291\u001b[0m     task_ins\u001b[38;5;241m=\u001b[39mtask_ins,\n\u001b[1;32m    292\u001b[0m     state\u001b[38;5;241m=\u001b[39mWorkloadState(state\u001b[38;5;241m=\u001b[39m{}),\n\u001b[1;32m    293\u001b[0m )\n\u001b[0;32m--> 294\u001b[0m bwd_msg: Bwd \u001b[38;5;241m=\u001b[39m \u001b[43mapp\u001b[49m\u001b[43m(\u001b[49m\u001b[43mfwd\u001b[49m\u001b[38;5;241;43m=\u001b[39;49m\u001b[43mfwd_msg\u001b[49m\u001b[43m)\u001b[49m\n\u001b[1;32m    296\u001b[0m \u001b[38;5;66;03m# Send\u001b[39;00m\n\u001b[1;32m    297\u001b[0m send(bwd_msg\u001b[38;5;241m.\u001b[39mtask_res)\n",
      "File \u001b[0;32m~/anaconda3/envs/flwr/lib/python3.9/site-packages/flwr/client/flower.py:82\u001b[0m, in \u001b[0;36mFlower.__call__\u001b[0;34m(self, fwd)\u001b[0m\n\u001b[1;32m     80\u001b[0m \u001b[38;5;250m\u001b[39m\u001b[38;5;124;03m\"\"\".\"\"\"\u001b[39;00m\n\u001b[1;32m     81\u001b[0m \u001b[38;5;66;03m# Execute the task\u001b[39;00m\n\u001b[0;32m---> 82\u001b[0m task_res \u001b[38;5;241m=\u001b[39m \u001b[43mhandle\u001b[49m\u001b[43m(\u001b[49m\n\u001b[1;32m     83\u001b[0m \u001b[43m    \u001b[49m\u001b[43mclient_fn\u001b[49m\u001b[38;5;241;43m=\u001b[39;49m\u001b[38;5;28;43mself\u001b[39;49m\u001b[38;5;241;43m.\u001b[39;49m\u001b[43mclient_fn\u001b[49m\u001b[43m,\u001b[49m\n\u001b[1;32m     84\u001b[0m \u001b[43m    \u001b[49m\u001b[43mtask_ins\u001b[49m\u001b[38;5;241;43m=\u001b[39;49m\u001b[43mfwd\u001b[49m\u001b[38;5;241;43m.\u001b[39;49m\u001b[43mtask_ins\u001b[49m\u001b[43m,\u001b[49m\n\u001b[1;32m     85\u001b[0m \u001b[43m\u001b[49m\u001b[43m)\u001b[49m\n\u001b[1;32m     86\u001b[0m \u001b[38;5;28;01mreturn\u001b[39;00m Bwd(\n\u001b[1;32m     87\u001b[0m     task_res\u001b[38;5;241m=\u001b[39mtask_res,\n\u001b[1;32m     88\u001b[0m     state\u001b[38;5;241m=\u001b[39mWorkloadState(state\u001b[38;5;241m=\u001b[39m{}),\n\u001b[1;32m     89\u001b[0m )\n",
      "File \u001b[0;32m~/anaconda3/envs/flwr/lib/python3.9/site-packages/flwr/client/message_handler/message_handler.py:117\u001b[0m, in \u001b[0;36mhandle\u001b[0;34m(client_fn, task_ins)\u001b[0m\n\u001b[1;32m    115\u001b[0m         \u001b[38;5;28;01mreturn\u001b[39;00m task_res\n\u001b[1;32m    116\u001b[0m     \u001b[38;5;28;01mraise\u001b[39;00m \u001b[38;5;167;01mNotImplementedError\u001b[39;00m()\n\u001b[0;32m--> 117\u001b[0m client_msg \u001b[38;5;241m=\u001b[39m \u001b[43mhandle_legacy_message\u001b[49m\u001b[43m(\u001b[49m\u001b[43mclient_fn\u001b[49m\u001b[43m,\u001b[49m\u001b[43m \u001b[49m\u001b[43mserver_msg\u001b[49m\u001b[43m)\u001b[49m\n\u001b[1;32m    118\u001b[0m task_res \u001b[38;5;241m=\u001b[39m wrap_client_message_in_task_res(client_msg)\n\u001b[1;32m    119\u001b[0m \u001b[38;5;28;01mreturn\u001b[39;00m task_res\n",
      "File \u001b[0;32m~/anaconda3/envs/flwr/lib/python3.9/site-packages/flwr/client/message_handler/message_handler.py:153\u001b[0m, in \u001b[0;36mhandle_legacy_message\u001b[0;34m(client_fn, server_msg)\u001b[0m\n\u001b[1;32m    151\u001b[0m     \u001b[38;5;28;01mreturn\u001b[39;00m _get_parameters(client, server_msg\u001b[38;5;241m.\u001b[39mget_parameters_ins)\n\u001b[1;32m    152\u001b[0m \u001b[38;5;28;01mif\u001b[39;00m field \u001b[38;5;241m==\u001b[39m \u001b[38;5;124m\"\u001b[39m\u001b[38;5;124mfit_ins\u001b[39m\u001b[38;5;124m\"\u001b[39m:\n\u001b[0;32m--> 153\u001b[0m     \u001b[38;5;28;01mreturn\u001b[39;00m \u001b[43m_fit\u001b[49m\u001b[43m(\u001b[49m\u001b[43mclient\u001b[49m\u001b[43m,\u001b[49m\u001b[43m \u001b[49m\u001b[43mserver_msg\u001b[49m\u001b[38;5;241;43m.\u001b[39;49m\u001b[43mfit_ins\u001b[49m\u001b[43m)\u001b[49m\n\u001b[1;32m    154\u001b[0m \u001b[38;5;28;01mif\u001b[39;00m field \u001b[38;5;241m==\u001b[39m \u001b[38;5;124m\"\u001b[39m\u001b[38;5;124mevaluate_ins\u001b[39m\u001b[38;5;124m\"\u001b[39m:\n\u001b[1;32m    155\u001b[0m     \u001b[38;5;28;01mreturn\u001b[39;00m _evaluate(client, server_msg\u001b[38;5;241m.\u001b[39mevaluate_ins)\n",
      "File \u001b[0;32m~/anaconda3/envs/flwr/lib/python3.9/site-packages/flwr/client/message_handler/message_handler.py:212\u001b[0m, in \u001b[0;36m_fit\u001b[0;34m(client, fit_msg)\u001b[0m\n\u001b[1;32m    209\u001b[0m fit_ins \u001b[38;5;241m=\u001b[39m serde\u001b[38;5;241m.\u001b[39mfit_ins_from_proto(fit_msg)\n\u001b[1;32m    211\u001b[0m \u001b[38;5;66;03m# Perform fit\u001b[39;00m\n\u001b[0;32m--> 212\u001b[0m fit_res \u001b[38;5;241m=\u001b[39m \u001b[43mmaybe_call_fit\u001b[49m\u001b[43m(\u001b[49m\n\u001b[1;32m    213\u001b[0m \u001b[43m    \u001b[49m\u001b[43mclient\u001b[49m\u001b[38;5;241;43m=\u001b[39;49m\u001b[43mclient\u001b[49m\u001b[43m,\u001b[49m\n\u001b[1;32m    214\u001b[0m \u001b[43m    \u001b[49m\u001b[43mfit_ins\u001b[49m\u001b[38;5;241;43m=\u001b[39;49m\u001b[43mfit_ins\u001b[49m\u001b[43m,\u001b[49m\n\u001b[1;32m    215\u001b[0m \u001b[43m\u001b[49m\u001b[43m)\u001b[49m\n\u001b[1;32m    217\u001b[0m \u001b[38;5;66;03m# Serialize fit result\u001b[39;00m\n\u001b[1;32m    218\u001b[0m fit_res_proto \u001b[38;5;241m=\u001b[39m serde\u001b[38;5;241m.\u001b[39mfit_res_to_proto(fit_res)\n",
      "File \u001b[0;32m~/anaconda3/envs/flwr/lib/python3.9/site-packages/flwr/client/client.py:223\u001b[0m, in \u001b[0;36mmaybe_call_fit\u001b[0;34m(client, fit_ins)\u001b[0m\n\u001b[1;32m    215\u001b[0m     \u001b[38;5;28;01mreturn\u001b[39;00m FitRes(\n\u001b[1;32m    216\u001b[0m         status\u001b[38;5;241m=\u001b[39mstatus,\n\u001b[1;32m    217\u001b[0m         parameters\u001b[38;5;241m=\u001b[39mParameters(tensor_type\u001b[38;5;241m=\u001b[39m\u001b[38;5;124m\"\u001b[39m\u001b[38;5;124m\"\u001b[39m, tensors\u001b[38;5;241m=\u001b[39m[]),\n\u001b[1;32m    218\u001b[0m         num_examples\u001b[38;5;241m=\u001b[39m\u001b[38;5;241m0\u001b[39m,\n\u001b[1;32m    219\u001b[0m         metrics\u001b[38;5;241m=\u001b[39m{},\n\u001b[1;32m    220\u001b[0m     )\n\u001b[1;32m    222\u001b[0m \u001b[38;5;66;03m# If the client implements `fit`, call it\u001b[39;00m\n\u001b[0;32m--> 223\u001b[0m \u001b[38;5;28;01mreturn\u001b[39;00m \u001b[43mclient\u001b[49m\u001b[38;5;241;43m.\u001b[39;49m\u001b[43mfit\u001b[49m\u001b[43m(\u001b[49m\u001b[43mfit_ins\u001b[49m\u001b[43m)\u001b[49m\n",
      "File \u001b[0;32m~/anaconda3/envs/flwr/lib/python3.9/site-packages/flwr/client/numpy_client.py:227\u001b[0m, in \u001b[0;36m_fit\u001b[0;34m(self, ins)\u001b[0m\n\u001b[1;32m    224\u001b[0m parameters: NDArrays \u001b[38;5;241m=\u001b[39m parameters_to_ndarrays(ins\u001b[38;5;241m.\u001b[39mparameters)\n\u001b[1;32m    226\u001b[0m \u001b[38;5;66;03m# Train\u001b[39;00m\n\u001b[0;32m--> 227\u001b[0m results \u001b[38;5;241m=\u001b[39m \u001b[38;5;28;43mself\u001b[39;49m\u001b[38;5;241;43m.\u001b[39;49m\u001b[43mnumpy_client\u001b[49m\u001b[38;5;241;43m.\u001b[39;49m\u001b[43mfit\u001b[49m\u001b[43m(\u001b[49m\u001b[43mparameters\u001b[49m\u001b[43m,\u001b[49m\u001b[43m \u001b[49m\u001b[43mins\u001b[49m\u001b[38;5;241;43m.\u001b[39;49m\u001b[43mconfig\u001b[49m\u001b[43m)\u001b[49m  \u001b[38;5;66;03m# type: ignore\u001b[39;00m\n\u001b[1;32m    228\u001b[0m \u001b[38;5;28;01mif\u001b[39;00m \u001b[38;5;129;01mnot\u001b[39;00m (\n\u001b[1;32m    229\u001b[0m     \u001b[38;5;28mlen\u001b[39m(results) \u001b[38;5;241m==\u001b[39m \u001b[38;5;241m3\u001b[39m\n\u001b[1;32m    230\u001b[0m     \u001b[38;5;129;01mand\u001b[39;00m \u001b[38;5;28misinstance\u001b[39m(results[\u001b[38;5;241m0\u001b[39m], \u001b[38;5;28mlist\u001b[39m)\n\u001b[1;32m    231\u001b[0m     \u001b[38;5;129;01mand\u001b[39;00m \u001b[38;5;28misinstance\u001b[39m(results[\u001b[38;5;241m1\u001b[39m], \u001b[38;5;28mint\u001b[39m)\n\u001b[1;32m    232\u001b[0m     \u001b[38;5;129;01mand\u001b[39;00m \u001b[38;5;28misinstance\u001b[39m(results[\u001b[38;5;241m2\u001b[39m], \u001b[38;5;28mdict\u001b[39m)\n\u001b[1;32m    233\u001b[0m ):\n\u001b[1;32m    234\u001b[0m     \u001b[38;5;28;01mraise\u001b[39;00m \u001b[38;5;167;01mException\u001b[39;00m(EXCEPTION_MESSAGE_WRONG_RETURN_TYPE_FIT)\n",
      "Cell \u001b[0;32mIn[6], line 20\u001b[0m, in \u001b[0;36mLanguageModelClient.fit\u001b[0;34m(self, parameters, config)\u001b[0m\n\u001b[1;32m     17\u001b[0m \u001b[38;5;28;01mdef\u001b[39;00m \u001b[38;5;21mfit\u001b[39m(\u001b[38;5;28mself\u001b[39m, parameters, config):\n\u001b[1;32m     18\u001b[0m \t\u001b[38;5;66;03m# Set the provided parameters and then train the model\u001b[39;00m\n\u001b[1;32m     19\u001b[0m \t\u001b[38;5;28mself\u001b[39m\u001b[38;5;241m.\u001b[39mset_parameters(parameters)\n\u001b[0;32m---> 20\u001b[0m \t\u001b[38;5;28;43mself\u001b[39;49m\u001b[38;5;241;43m.\u001b[39;49m\u001b[43mtrainer\u001b[49m\u001b[38;5;241;43m.\u001b[39;49m\u001b[43mtrain\u001b[49m\u001b[43m(\u001b[49m\u001b[43m)\u001b[49m\n\u001b[1;32m     21\u001b[0m \t\u001b[38;5;28;01mreturn\u001b[39;00m \u001b[38;5;28mself\u001b[39m\u001b[38;5;241m.\u001b[39mget_parameters(), \u001b[38;5;28mlen\u001b[39m(\u001b[38;5;28mself\u001b[39m\u001b[38;5;241m.\u001b[39mtrain_dataset), {}\n",
      "File \u001b[0;32m~/anaconda3/envs/flwr/lib/python3.9/site-packages/transformers/trainer.py:1555\u001b[0m, in \u001b[0;36mTrainer.train\u001b[0;34m(self, resume_from_checkpoint, trial, ignore_keys_for_eval, **kwargs)\u001b[0m\n\u001b[1;32m   1553\u001b[0m         hf_hub_utils\u001b[38;5;241m.\u001b[39menable_progress_bars()\n\u001b[1;32m   1554\u001b[0m \u001b[38;5;28;01melse\u001b[39;00m:\n\u001b[0;32m-> 1555\u001b[0m     \u001b[38;5;28;01mreturn\u001b[39;00m \u001b[43minner_training_loop\u001b[49m\u001b[43m(\u001b[49m\n\u001b[1;32m   1556\u001b[0m \u001b[43m        \u001b[49m\u001b[43margs\u001b[49m\u001b[38;5;241;43m=\u001b[39;49m\u001b[43margs\u001b[49m\u001b[43m,\u001b[49m\n\u001b[1;32m   1557\u001b[0m \u001b[43m        \u001b[49m\u001b[43mresume_from_checkpoint\u001b[49m\u001b[38;5;241;43m=\u001b[39;49m\u001b[43mresume_from_checkpoint\u001b[49m\u001b[43m,\u001b[49m\n\u001b[1;32m   1558\u001b[0m \u001b[43m        \u001b[49m\u001b[43mtrial\u001b[49m\u001b[38;5;241;43m=\u001b[39;49m\u001b[43mtrial\u001b[49m\u001b[43m,\u001b[49m\n\u001b[1;32m   1559\u001b[0m \u001b[43m        \u001b[49m\u001b[43mignore_keys_for_eval\u001b[49m\u001b[38;5;241;43m=\u001b[39;49m\u001b[43mignore_keys_for_eval\u001b[49m\u001b[43m,\u001b[49m\n\u001b[1;32m   1560\u001b[0m \u001b[43m    \u001b[49m\u001b[43m)\u001b[49m\n",
      "File \u001b[0;32m~/anaconda3/envs/flwr/lib/python3.9/site-packages/transformers/trainer.py:1862\u001b[0m, in \u001b[0;36mTrainer._inner_training_loop\u001b[0;34m(self, batch_size, args, resume_from_checkpoint, trial, ignore_keys_for_eval)\u001b[0m\n\u001b[1;32m   1859\u001b[0m \u001b[38;5;28;01mwith\u001b[39;00m \u001b[38;5;28mself\u001b[39m\u001b[38;5;241m.\u001b[39maccelerator\u001b[38;5;241m.\u001b[39maccumulate(model):\n\u001b[1;32m   1860\u001b[0m     tr_loss_step \u001b[38;5;241m=\u001b[39m \u001b[38;5;28mself\u001b[39m\u001b[38;5;241m.\u001b[39mtraining_step(model, inputs)\n\u001b[0;32m-> 1862\u001b[0m \u001b[38;5;28;01mif\u001b[39;00m (\n\u001b[1;32m   1863\u001b[0m     args\u001b[38;5;241m.\u001b[39mlogging_nan_inf_filter\n\u001b[1;32m   1864\u001b[0m     \u001b[38;5;129;01mand\u001b[39;00m \u001b[38;5;129;01mnot\u001b[39;00m is_torch_tpu_available()\n\u001b[1;32m   1865\u001b[0m     \u001b[38;5;129;01mand\u001b[39;00m (torch\u001b[38;5;241m.\u001b[39misnan(tr_loss_step) \u001b[38;5;129;01mor\u001b[39;00m torch\u001b[38;5;241m.\u001b[39misinf(tr_loss_step))\n\u001b[1;32m   1866\u001b[0m ):\n\u001b[1;32m   1867\u001b[0m     \u001b[38;5;66;03m# if loss is nan or inf simply add the average of previous logged losses\u001b[39;00m\n\u001b[1;32m   1868\u001b[0m     tr_loss \u001b[38;5;241m+\u001b[39m\u001b[38;5;241m=\u001b[39m tr_loss \u001b[38;5;241m/\u001b[39m (\u001b[38;5;241m1\u001b[39m \u001b[38;5;241m+\u001b[39m \u001b[38;5;28mself\u001b[39m\u001b[38;5;241m.\u001b[39mstate\u001b[38;5;241m.\u001b[39mglobal_step \u001b[38;5;241m-\u001b[39m \u001b[38;5;28mself\u001b[39m\u001b[38;5;241m.\u001b[39m_globalstep_last_logged)\n\u001b[1;32m   1869\u001b[0m \u001b[38;5;28;01melse\u001b[39;00m:\n",
      "\u001b[0;31mKeyboardInterrupt\u001b[0m: "
     ]
    }
   ],
   "source": [
    "fl.client.start_numpy_client(\n",
    "\tserver_address=\"localhost:8080\",\n",
    "\tclient=client,\n",
    ")"
   ]
  },
  {
   "cell_type": "markdown",
   "metadata": {},
   "source": [
    "--- "
   ]
  },
  {
   "cell_type": "code",
   "execution_count": null,
   "metadata": {
    "id": "OEuqwIra3l_N"
   },
   "outputs": [],
   "source": [
    "trainer = Trainer(\n",
    "    model=model,\n",
    "    args=training_args,\n",
    "    train_dataset=lm_datasets[\"train\"],\n",
    "    eval_dataset=lm_datasets[\"validation\"],\n",
    ")"
   ]
  },
  {
   "cell_type": "code",
   "execution_count": null,
   "metadata": {
    "id": "diKZnB1I3l_R",
    "outputId": "9b3ac725-0117-4830-f380-a555ee57c8cf"
   },
   "outputs": [],
   "source": [
    "eval_results_before = trainer.evaluate()\n",
    "print(f\"Perplexity before training: {math.exp(eval_results_before['eval_loss']):.2f}\")"
   ]
  },
  {
   "cell_type": "code",
   "execution_count": null,
   "metadata": {},
   "outputs": [],
   "source": [
    "trainer.train()\n",
    "\n",
    "trainer.save_model(f\"{model_name}-finetuned-wikitext103_fin\")\n",
    "eval_results_after = trainer.evaluate()\n",
    "print(f\"Perplexity after training: {math.exp(eval_results_after['eval_loss']):.2f}\")"
   ]
  }
 ],
 "metadata": {
  "colab": {
   "name": "Fine-tune a language model",
   "provenance": []
  },
  "kernelspec": {
   "display_name": "Python 3 (ipykernel)",
   "language": "python",
   "name": "python3"
  },
  "language_info": {
   "codemirror_mode": {
    "name": "ipython",
    "version": 3
   },
   "file_extension": ".py",
   "mimetype": "text/x-python",
   "name": "python",
   "nbconvert_exporter": "python",
   "pygments_lexer": "ipython3",
   "version": "3.9.18"
  }
 },
 "nbformat": 4,
 "nbformat_minor": 1
}
